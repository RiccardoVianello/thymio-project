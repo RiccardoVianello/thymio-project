{
 "cells": [
  {
   "cell_type": "markdown",
   "id": "41fe3b76",
   "metadata": {},
   "source": [
    "# THYMIO PROJECT"
   ]
  },
  {
   "cell_type": "markdown",
   "id": "68b7cc4d",
   "metadata": {},
   "source": [
    "Thomas Pierre Xavier Blanchard, Tanguy Pierre Cedoz, Maxime Sami Julien Leriche, Riccardo Vianello"
   ]
  },
  {
   "cell_type": "code",
   "execution_count": null,
   "id": "a2ed9aa2",
   "metadata": {},
   "outputs": [],
   "source": [
    "from tdmclient import ClientAsync\n",
    "client = ClientAsync()\n",
    "node = await client.wait_for_node()\n",
    "await node.lock()"
   ]
  },
  {
   "cell_type": "code",
   "execution_count": null,
   "id": "386d6a4d",
   "metadata": {},
   "outputs": [],
   "source": [
    "test_functions = True"
   ]
  },
  {
   "cell_type": "markdown",
   "id": "5ca594bf",
   "metadata": {},
   "source": [
    "Functions"
   ]
  },
  {
   "cell_type": "code",
   "execution_count": null,
   "id": "6879cd50",
   "metadata": {},
   "outputs": [],
   "source": [
    "from threading import Timer\n",
    "\n",
    "class RepeatedTimer(object):\n",
    "    def __init__(self, interval, function, *args, **kwargs):\n",
    "        self._timer     = None\n",
    "        self.interval   = interval\n",
    "        self.function   = function\n",
    "        self.args       = args\n",
    "        self.kwargs     = kwargs\n",
    "        self.is_running = False\n",
    "        self.start()\n",
    "\n",
    "    def _run(self):\n",
    "        self.is_running = False\n",
    "        self.start()\n",
    "        self.function(*self.args, **self.kwargs)\n",
    "\n",
    "    def start(self):\n",
    "        if not self.is_running:\n",
    "            self._timer = Timer(self.interval, self._run)\n",
    "            self._timer.start()\n",
    "            self.is_running = True\n",
    "\n",
    "    def stop(self):\n",
    "        self._timer.cancel()\n",
    "        self.is_running = False\n"
   ]
  },
  {
   "cell_type": "code",
   "execution_count": null,
   "id": "2a182581",
   "metadata": {},
   "outputs": [],
   "source": [
    "#function to set the speed of the wheels\n",
    "def motors(left, right):\n",
    "    return {\n",
    "        \"motor.left.target\": [left],\n",
    "        \"motor.right.target\": [right],\n",
    "    }\n",
    "\n",
    "node.send_set_variables(motors(0, 0))"
   ]
  },
  {
   "cell_type": "markdown",
   "id": "937aa39c",
   "metadata": {},
   "source": [
    "# Local Avoidance"
   ]
  },
  {
   "cell_type": "code",
   "execution_count": null,
   "id": "7b0e1a7d",
   "metadata": {},
   "outputs": [],
   "source": [
    "#function to see if an obstacle is detected or not\n",
    "def detection_obstacle(obstacle_threshold, verbose = False):\n",
    "    # if one of the sensors in front of the robot has a value higher than the threshold we return true\n",
    "    if any([x>obstacle_threshold for x in node['prox.horizontal'][:-2]]):\n",
    "        if verbose: print(\"\\t\\t Saw an obstacle\")\n",
    "        return True\n",
    "    \n",
    "    return False"
   ]
  },
  {
   "cell_type": "code",
   "execution_count": null,
   "id": "ae3b7c50",
   "metadata": {},
   "outputs": [],
   "source": [
    "#function to see if an obstacle is detected or not with less influence from the right sensor\n",
    "def detection_obstacle_turning(obstacle_threshold, verbose = False):\n",
    "    # if one of the sensors in front of the robot has a value higher than the threshold we return true\n",
    "    if any([x>obstacle_threshold for x in node['prox.horizontal'][:-3]]) or (node['prox.horizontal'][4] > obstacle_threshold + 200):\n",
    "        if verbose: print(\"\\t\\t Saw an obstacle\")\n",
    "        return True\n",
    "    \n",
    "    return False"
   ]
  },
  {
   "cell_type": "markdown",
   "id": "695d0fca",
   "metadata": {},
   "source": [
    "## instead of going straight we should implement the motion control function to follow the optimal path\n",
    "## for now I've defined the going straight function to test the obstacle avoidance algorithm"
   ]
  },
  {
   "cell_type": "code",
   "execution_count": null,
   "id": "db724515",
   "metadata": {},
   "outputs": [],
   "source": [
    "async def go_straight(motor_speed=170, obstacle_threshold=3000, verbose=True):\n",
    "    \"\"\"\n",
    "    Go Straight Behaviour we need to change it with the following of the optimal path \n",
    "    param motor_speed: the Thymio's motor speed\n",
    "    param obstacle_threshold: threshold starting which it is considered that thymio has detected an object\n",
    "    param verbose: whether to print status messages or not\n",
    "    \"\"\"\n",
    "    if verbose: print(\"Starting go straight behaviour\")\n",
    "    \n",
    "    # Move forward, i.e. set motor speeds\n",
    "    # here we should put the module that follows the optimal path\n",
    "    await node.set_variables(motors(motor_speed, motor_speed))\n",
    "    \n",
    "    # Until one of the prox sensor sees an obstacle\n",
    "    obstacle = False\n",
    "    \n",
    "    await node.wait_for_variables({\"prox.horizontal\"})\n",
    "    \n",
    "    while not obstacle:\n",
    "        # here we should put the module that follows the optimal path\n",
    "        # as soon as an obstacle is detected it goes out from this module\n",
    "        if detection_obstacle(obstacle_threshold, verbose=verbose):\n",
    "            obstacle=True\n",
    "            if verbose: print(\"\\t Saw an obstacle in front, exiting go straight behaviour\")\n",
    "        await client.sleep(0.2) #otherwise, variables would not be updated\n",
    "    return \n",
    "\n",
    "if test_functions:\n",
    "    await go_straight(100,1000,True)\n",
    "    await node.set_variables(motors(0, 0)) "
   ]
  },
  {
   "cell_type": "code",
   "execution_count": null,
   "id": "eccf0146",
   "metadata": {
    "code_folding": []
   },
   "outputs": [],
   "source": [
    "#for the moment it is not useful\n",
    "def test_pass_wall(wall_threshold, verbose=True):\n",
    "    \"\"\"\n",
    "    Tests whether one of the proximity sensors saw a wall\n",
    "    param wall_threshold: threshold starting which it is considered that the sensor saw a wall\n",
    "    param verbose: whether to print status messages or not\n",
    "    \"\"\"\n",
    "    if any([x>wall_threshold for x in node['prox.horizontal'][:-2]]):\n",
    "        if verbose: print(\"\\t\\t Still following the wall\")\n",
    "    else:\n",
    "        #wait 3 seconds to really pass the wall\n",
    "        if verbose: print(\"\\t\\t Wall passed\")\n",
    "        return True\n",
    "    \n",
    "    return False"
   ]
  },
  {
   "cell_type": "code",
   "execution_count": null,
   "id": "52efaff8",
   "metadata": {},
   "outputs": [],
   "source": [
    "# we need to implement a function that \n",
    "# detects when we're back on the optimal path\n",
    "# for now i was trying to use this function to go out of local avoidance\n",
    "def test_ground_white(white_threshold, verbose=False):\n",
    "    \"\"\"\n",
    "    Tests whether the two ground sensors have seen white\n",
    "    param white_threshold: threshold starting which it is considered that the sensor saw white\n",
    "    param verbose: whether to print status messages or not\n",
    "    \"\"\"\n",
    "    if all([x>white_threshold for x in node['prox.ground.reflected']]):\n",
    "        if verbose: print(\"\\t\\t Saw white on the ground\")\n",
    "        return True\n",
    "    return False"
   ]
  },
  {
   "cell_type": "code",
   "execution_count": null,
   "id": "f508c850",
   "metadata": {},
   "outputs": [],
   "source": [
    "async def wall_following(motor_speed=170, obstacle_threshold=2900, wall_threshold=500, verbose=True):\n",
    "    \"\"\"\n",
    "    Wall following behaviour of the local avoidance\n",
    "    param motor_speed: the Thymio's motor speed\n",
    "    param obstacle_threshold: threshold starting which it is considered that the sensor saw an object\n",
    "    param wall_threshold: threshold starting which it is considered that the sensor saw an object (not used for the moment)\n",
    "    param verbose: whether to print status messages or not\n",
    "    \"\"\"\n",
    "    \n",
    "    if verbose: print(\"Starting wall following behaviour\")\n",
    "    saw_black = False\n",
    "    \n",
    "    if verbose: print(\"\\t Moving forward\")\n",
    "    await node.set_variables(motors(motor_speed, motor_speed))\n",
    "           \n",
    "    prev_state=\"forward\"\n",
    "    \n",
    "    while not saw_black:\n",
    "        \n",
    "        if detection_obstacle(obstacle_threshold, verbose=False):\n",
    "            if prev_state==\"forward\": \n",
    "                if verbose: print(\"\\tSaw wall, turning clockwise\")\n",
    "                await node.set_variables(motors(-motor_speed+40, motor_speed-40))\n",
    "                prev_state=\"turning\"\n",
    "        \n",
    "        else:\n",
    "            if prev_state==\"turning\": \n",
    "                if verbose: print(\"\\t Moving forward\")\n",
    "                # first I move forward for a while\n",
    "                await node.set_variables(motors(motor_speed, motor_speed))\n",
    "                await client.sleep(1)\n",
    "                # then I start turning right\n",
    "                await node.set_variables(motors(motor_speed+20, motor_speed-90))\n",
    "                prev_state=\"forward\"\n",
    "                \n",
    "        # we need to define the function that checks that we've \n",
    "        #returned to the optimal path to go out of this function\n",
    "        \n",
    "        \n",
    "        #if test_pass_wall(wall_threshold, verbose=True): \n",
    "            #await client.sleep(4.7)\n",
    "            #saw_black = True\n",
    "            \n",
    "        await client.sleep(0.05) #otherwise, variables would not be updated\n",
    "    return \n",
    "\n",
    "if test_functions:\n",
    "    #await wall_following(verbose=True)\n",
    "    await node.set_variables(motors(0, 0))"
   ]
  },
  {
   "cell_type": "code",
   "execution_count": null,
   "id": "12942994",
   "metadata": {},
   "outputs": [],
   "source": [
    "#still to be checked\n",
    "async def alternative_wall_following(motor_speed=170, obstacle_threshold=3000, wall_threshold=500, verbose=True):\n",
    "    \"\"\"\n",
    "    Wall following behaviour of the local avoidance\n",
    "    param motor_speed: the Thymio's motor speed\n",
    "    param obstacle_threshold: threshold starting which it is considered that the sensor saw an object\n",
    "    param wall_threshold: threshold starting which it is considered that the sensor saw an object (not used for the moment)\n",
    "    param verbose: whether to print status messages or not\n",
    "    \"\"\"\n",
    "    \n",
    "    if verbose: print(\"Starting wall following behaviour\")\n",
    "    saw_black = False\n",
    "    \n",
    "    if verbose: print(\"\\t Moving forward\")\n",
    "    await node.set_variables(motors(motor_speed, motor_speed))\n",
    "           \n",
    "    prev_state=\"forward\"\n",
    "    second_prev_state = \"forward\"\n",
    "    \n",
    "    while not saw_black:\n",
    "        \n",
    "        if detection_obstacle(obstacle_threshold, verbose=False):\n",
    "            if prev_state==\"forward\": \n",
    "                if verbose: print(\"\\tSaw wall, turning clockwise\")\n",
    "                await node.set_variables(motors(-motor_speed+40, motor_speed-40))\n",
    "                prev_state=\"turning\"\n",
    "        \n",
    "        else:\n",
    "            if prev_state==\"turning\":\n",
    "                while not detection_obstacle(obstacle_threshold, verbose=False):\n",
    "                    if verbose: print(\"\\t Moving forward\")\n",
    "                    if second_prev_state==\"forward\": \n",
    "                        await node.set_variables(motors(motor_speed, motor_speed-90))\n",
    "                        second_prev_state=\"turning\"\n",
    "                    else:\n",
    "                        await node.set_variables(motors(motor_speed, motor_speed))\n",
    "                        second_prev_state=\"forward\"\n",
    "                    # first I move forward for a while\n",
    "                    \n",
    "                    await client.sleep(0.5)\n",
    "                    # then I start turning right\n",
    "                prev_state=\"forward\"\n",
    "                \n",
    "        # we need to define the function that checks that we've \n",
    "        #returned to the optimal path to go out of this function\n",
    "        # that must be written in the following commented if\n",
    "        \n",
    "        #if test_pass_wall(wall_threshold, verbose=True): \n",
    "            #await client.sleep(4.7)\n",
    "            #saw_black = True\n",
    "            \n",
    "        await client.sleep(0.05) #otherwise, variables would not be updated\n",
    "    return \n",
    "\n",
    "if test_functions:\n",
    "    #await wall_following(verbose=True)\n",
    "    await node.set_variables(motors(0, 0))"
   ]
  },
  {
   "cell_type": "code",
   "execution_count": null,
   "id": "172a2f54",
   "metadata": {},
   "outputs": [],
   "source": [
    "async def Local_avoidance(speed = 170, verbose=True):\n",
    "    while True:\n",
    "        # Step 1: go straight (should be follow the path once we have it)\n",
    "        await go_straight(speed, verbose=verbose)\n",
    "        \n",
    "        # Step 2: wall following\n",
    "        await wall_following(speed, verbose=verbose)\n",
    "        \n",
    "        # Step 3: it should be return following the optimal path\n",
    "        #await go_straight(speed, verbose=verbose)"
   ]
  },
  {
   "cell_type": "code",
   "execution_count": null,
   "id": "d572e1ff",
   "metadata": {},
   "outputs": [],
   "source": [
    "await node.set_variables(motors(0, 0)) "
   ]
  },
  {
   "cell_type": "markdown",
   "id": "45da9a53",
   "metadata": {},
   "source": [
    "Parameters that are working\n",
    "- speed 170\n",
    "- time going straight 1 second\n",
    "- turning write +20 left speed, - 90 right speed\n",
    "- obstacle_threshold = 3000"
   ]
  },
  {
   "cell_type": "code",
   "execution_count": null,
   "id": "fbc2307e",
   "metadata": {},
   "outputs": [],
   "source": [
    "if test_functions:\n",
    "    await Local_avoidance(170, verbose=True)"
   ]
  },
  {
   "cell_type": "code",
   "execution_count": null,
   "id": "b4a76036",
   "metadata": {},
   "outputs": [],
   "source": [
    "# for the moment I'm not using this\n",
    "async def turn_right(motor_speed=100, obstacle_threshold=2000, wall_threshold=500, verbose=True):\n",
    "    \"\"\"\n",
    "    Wall following behaviour of the FSM\n",
    "    param motor_speed: the Thymio's motor speed\n",
    "    param wall_threshold: threshold starting which it is considered that the sensor saw a wall\n",
    "    param white_threshold: threshold starting which it is considered that the ground sensor saw white\n",
    "    param verbose: whether to print status messages or not\n",
    "    \"\"\"\n",
    "    \n",
    "    if verbose: print(\"Starting wall following behaviour\")\n",
    "    saw_black = False\n",
    "    \n",
    "    if verbose: print(\"\\t Moving forward\")\n",
    "    await node.set_variables(motors(motor_speed, motor_speed))\n",
    "           \n",
    "    prev_state=\"forward\"\n",
    "    \n",
    "    while not saw_black:\n",
    "        \n",
    "        if detection_obstacle(obstacle_threshold, verbose=False):\n",
    "            if prev_state==\"forward\": \n",
    "                if verbose: print(\"\\tSaw wall, turning clockwise\")\n",
    "                await node.set_variables(motors(-motor_speed, motor_speed))\n",
    "                prev_state=\"turning\"\n",
    "        \n",
    "        else:\n",
    "            if prev_state==\"turning\": \n",
    "                if verbose: print(\"\\t Moving forward\")\n",
    "                await node.set_variables(motors(motor_speed, motor_speed))\n",
    "                prev_state=\"forward\"\n",
    "\n",
    "        if test_pass_wall(wall_threshold, verbose=True): \n",
    "            await client.sleep(4.2)\n",
    "            saw_black = True\n",
    "        await client.sleep(0.1) #otherwise, variables would not be updated\n",
    "    return \n",
    "\n",
    "if test_functions:\n",
    "    await wall_following(verbose=True)\n",
    "    await node.set_variables(motors(0, 0))"
   ]
  },
  {
   "cell_type": "code",
   "execution_count": null,
   "id": "7b700aab",
   "metadata": {},
   "outputs": [],
   "source": []
  },
  {
   "cell_type": "code",
   "execution_count": null,
   "id": "0c60e5ee",
   "metadata": {},
   "outputs": [],
   "source": []
  },
  {
   "cell_type": "code",
   "execution_count": null,
   "id": "afbb2a18",
   "metadata": {},
   "outputs": [],
   "source": [
    "# just to print something (Riccardo)\n",
    "\n",
    "async def print_sensor_values(sensor_id, print_range=10, delta_time=0.2):\n",
    "    \"\"\"\n",
    "    Print the sensor value sensor_id print_range times, every delta_time seconds\n",
    "    \"\"\"\n",
    "    await node.wait_for_variables({str(sensor_id)})\n",
    "    for i in range(print_range):\n",
    "        print(list(node[sensor_id][:-2]))\n",
    "        \n",
    "        await client.sleep(delta_time)\n",
    "        \n",
    "await print_sensor_values('prox.horizontal')"
   ]
  },
  {
   "cell_type": "code",
   "execution_count": null,
   "id": "f5591e46",
   "metadata": {},
   "outputs": [],
   "source": [
    "# it might not be useful, I need to modify it (Riccardo)\n",
    "\n",
    "acquire_data = True\n",
    "Ts = 0.1\n",
    "thymio_data = []\n",
    "\n",
    "def motors(left, right):\n",
    "    return {\n",
    "        \"motor.left.target\": [left],\n",
    "        \"motor.right.target\": [right],\n",
    "    }\n",
    "\n",
    "def get_data():\n",
    "    thymio_data.append({\"prox\":list(node[\"prox.horizontal\"]), \n",
    "                        \"left_speed\":node[\"motor.left.speed\"],\n",
    "                        \"right_speed\":node[\"motor.right.speed\"]})\n",
    "    \n",
    "\n",
    "if acquire_data:\n",
    "    await node.wait_for_variables() # wait for Thymio variables values\n",
    "    rt = RepeatedTimer(Ts, get_data) # it auto-starts, no need of rt.start()\n",
    "\n",
    "    try:\n",
    "        # time.sleep would not work here, use asynchronous client.sleep method instead\n",
    "        await client.sleep(5)\n",
    "        node.send_set_variables(motors(55, 50))\n",
    "        await client.sleep(10) # your long-running job goes here...\n",
    "    finally:\n",
    "        rt.stop() # better in a try/finally block to make sure the program ends!\n",
    "        node.send_set_variables(motors(0, 0))\n",
    "else:\n",
    "    node.send_set_variables(motors(0, 0))"
   ]
  },
  {
   "cell_type": "markdown",
   "id": "961519ab",
   "metadata": {},
   "source": [
    "# Filtering\n",
    "\n",
    "From the current probability map of position, get the next one based on measurements and instructions."
   ]
  },
  {
   "cell_type": "markdown",
   "id": "2c9ed476",
   "metadata": {},
   "source": []
  }
 ],
 "metadata": {
  "kernelspec": {
   "display_name": "Python 3.10.7 64-bit",
   "language": "python",
   "name": "python3"
  },
  "language_info": {
   "codemirror_mode": {
    "name": "ipython",
    "version": 3
   },
   "file_extension": ".py",
   "mimetype": "text/x-python",
   "name": "python",
   "nbconvert_exporter": "python",
   "pygments_lexer": "ipython3",
   "version": "3.10.7"
  },
  "toc": {
   "base_numbering": 1,
   "nav_menu": {},
   "number_sections": true,
   "sideBar": true,
   "skip_h1_title": false,
   "title_cell": "Table of Contents",
   "title_sidebar": "Contents",
   "toc_cell": false,
   "toc_position": {},
   "toc_section_display": true,
   "toc_window_display": false
  },
  "vscode": {
   "interpreter": {
    "hash": "7e1998ff7f8aa20ada591c520b972326324e5ea05489af9e422744c7c09f6dad"
   }
  }
 },
 "nbformat": 4,
 "nbformat_minor": 5
}
