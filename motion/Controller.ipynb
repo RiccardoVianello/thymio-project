{
 "cells": [
  {
   "cell_type": "code",
   "execution_count": 2,
   "id": "1c8a903a",
   "metadata": {},
   "outputs": [
    {
     "data": {
      "text/plain": [
       "Node d5064bb0-408f-4955-8d7f-ec94c5538314"
      ]
     },
     "execution_count": 2,
     "metadata": {},
     "output_type": "execute_result"
    }
   ],
   "source": [
    "from tdmclient import ClientAsync\n",
    "client = ClientAsync()\n",
    "node = await client.wait_for_node()\n",
    "await node.lock()"
   ]
  },
  {
   "cell_type": "code",
   "execution_count": 3,
   "id": "71072bf3",
   "metadata": {},
   "outputs": [],
   "source": [
    "import math\n",
    "import numpy as np\n",
    "import matplotlib.pyplot as plt\n",
    "from matplotlib import colors\n",
    "import time\n",
    "\n",
    "%matplotlib inline"
   ]
  },
  {
   "cell_type": "code",
   "execution_count": 4,
   "id": "17e6ef6f",
   "metadata": {},
   "outputs": [],
   "source": [
    "test_functions = True"
   ]
  },
  {
   "cell_type": "code",
   "execution_count": 5,
   "id": "bc89b1d1",
   "metadata": {},
   "outputs": [],
   "source": [
    "from threading import Timer\n",
    "\n",
    "class RepeatedTimer(object):\n",
    "    def __init__(self, interval, function, *args, **kwargs):\n",
    "        self._timer     = None\n",
    "        self.interval   = interval\n",
    "        self.function   = function\n",
    "        self.args       = args\n",
    "        self.kwargs     = kwargs\n",
    "        self.is_running = False\n",
    "        self.start()\n",
    "\n",
    "    def _run(self):\n",
    "        self.is_running = False\n",
    "        self.start()\n",
    "        self.function(*self.args, **self.kwargs)\n",
    "\n",
    "    def start(self):\n",
    "        if not self.is_running:\n",
    "            self._timer = Timer(self.interval, self._run)\n",
    "            self._timer.start()\n",
    "            self.is_running = True\n",
    "\n",
    "    def stop(self):\n",
    "        self._timer.cancel()\n",
    "        self.is_running = False"
   ]
  },
  {
   "cell_type": "code",
   "execution_count": 6,
   "id": "1a1f21be",
   "metadata": {},
   "outputs": [],
   "source": [
    "#function to set the speed of the wheels\n",
    "def motors(left, right):\n",
    "    return {\n",
    "        \"motor.left.target\": [left],\n",
    "        \"motor.right.target\": [right],\n",
    "    }\n",
    "\n",
    "node.send_set_variables(motors(0, 0))"
   ]
  },
  {
   "cell_type": "code",
   "execution_count": 7,
   "id": "0898f6f0",
   "metadata": {},
   "outputs": [],
   "source": [
    "async def motion_control(start_x, start_y, start_theta, goal_x, goal_y, goal_theta):\n",
    "    # start_theta and goal_theta to be given in degrees, coordinates in mm\n",
    "    \n",
    "    # Controller parameters:\n",
    "    \n",
    "    # Kx in s^(-1)\n",
    "    Kx = 1.3\n",
    "    # Ky in mm^(-2)\n",
    "    Ky = 0.000015\n",
    "    # Ktheta in mm^(-1)\n",
    "    Ktheta = 0.02\n",
    "    \n",
    "    # should be given in mm/s\n",
    "    v_ref = 200\n",
    "    # should be given in rad/s\n",
    "    omega_ref = 0\n",
    "    \n",
    "    # Converting degrees to radians\n",
    "    start_theta *= math.pi/180\n",
    "    goal_theta *= math.pi/180\n",
    "    \n",
    "    pos_current = np.array([start_x, start_y, start_theta])\n",
    "    pos_ref = np.array([goal_x, goal_y, goal_theta])\n",
    "    \n",
    "    # kanayama controller\n",
    "    while np.any(pos_current) != np.any(pos_ref):\n",
    "        \n",
    "        # the error x and y are given in the robot referencial, not the global referencial\n",
    "        pos_error = np.array([[math.cos(pos_current[2]), math.sin(pos_current[2]), 0],\n",
    "                             [-math.sin(pos_current[2]), math.cos(pos_current[2]), 0],\n",
    "                             [0, 0, 1]]).dot(pos_ref - pos_current)\n",
    "        \n",
    "        print(pos_error)\n",
    "        \n",
    "        # q = [v, omega] easier to translate into motor commands\n",
    "        q = np.array([v_ref*math.cos(pos_error[2]) + Kx*pos_error[0],\n",
    "                      omega_ref + v_ref*(Ky*pos_error[1] + Ktheta*math.sin(pos_error[2]))])\n",
    "        \n",
    "        print(q)\n",
    "\n",
    "        [left,right] = move_robot(q)\n",
    "        await node.set_variables(motors(left, right))\n",
    "        # time.sleep(1)\n",
    "        \n",
    "        # should be pos_current = get_filtered_pos()\n",
    "        pos_current = pos_ref\n",
    "        \n",
    "    node.send_set_variables(motors(0, 0))\n",
    "    print('out')"
   ]
  },
  {
   "cell_type": "code",
   "execution_count": 23,
   "id": "1e3005a8",
   "metadata": {},
   "outputs": [],
   "source": [
    "def move_robot(q):\n",
    "    \n",
    "    # distance between the wheels in mm\n",
    "    b = 95\n",
    "    \n",
    "    # convert to motor speed\n",
    "    v = 2.817 * q[0]\n",
    "    omega = 8.8/math.pi * q[1]\n",
    "    \n",
    "    left_speed = round(-0.5*omega*b + v)\n",
    "    print('left:',left_speed)\n",
    "    right_speed = round(0.5*omega*b + v)\n",
    "    print('right:',right_speed)\n",
    "    \n",
    "    return [left_speed,right_speed]"
   ]
  },
  {
   "cell_type": "code",
   "execution_count": 26,
   "id": "b21a2cfc",
   "metadata": {},
   "outputs": [
    {
     "name": "stdout",
     "output_type": "stream",
     "text": [
      "[0.         0.         1.57079633]\n",
      "[1.2246468e-14 4.0000000e+00]\n",
      "left: -532\n",
      "right: 532\n",
      "out\n"
     ]
    }
   ],
   "source": [
    "await motion_control(0,0,0,0,0,90)\n",
    "\n",
    "# Notes: \n",
    "# - as the input for the motors depends on the error, a farther goal would make the robot move faster\n",
    "# - a pure rotation command does not translate into the robot just rotating but we never have to face this case"
   ]
  },
  {
   "cell_type": "code",
   "execution_count": 24,
   "id": "198a0d9c",
   "metadata": {},
   "outputs": [
    {
     "name": "stdout",
     "output_type": "stream",
     "text": [
      "left: -209\n",
      "right: 209\n"
     ]
    }
   ],
   "source": [
    "[left,right] = move_robot([0,math.pi/2])\n",
    "await node.set_variables(motors(left, right))\n",
    "time.sleep(1)\n",
    "node.send_set_variables(motors(0, 0))"
   ]
  },
  {
   "cell_type": "code",
   "execution_count": null,
   "id": "7e6202b9",
   "metadata": {},
   "outputs": [],
   "source": []
  },
  {
   "cell_type": "code",
   "execution_count": null,
   "id": "513e480d",
   "metadata": {},
   "outputs": [],
   "source": []
  }
 ],
 "metadata": {
  "kernelspec": {
   "display_name": "Python 3",
   "language": "python",
   "name": "python3"
  },
  "language_info": {
   "codemirror_mode": {
    "name": "ipython",
    "version": 3
   },
   "file_extension": ".py",
   "mimetype": "text/x-python",
   "name": "python",
   "nbconvert_exporter": "python",
   "pygments_lexer": "ipython3",
   "version": "3.8.8"
  }
 },
 "nbformat": 4,
 "nbformat_minor": 5
}
