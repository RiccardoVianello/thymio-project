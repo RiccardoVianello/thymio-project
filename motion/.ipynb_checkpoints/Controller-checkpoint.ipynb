{
 "cells": [
  {
   "cell_type": "code",
   "execution_count": 2,
   "id": "1c8a903a",
   "metadata": {},
   "outputs": [
    {
     "data": {
      "text/plain": [
       "Node d5064bb0-408f-4955-8d7f-ec94c5538314"
      ]
     },
     "execution_count": 2,
     "metadata": {},
     "output_type": "execute_result"
    }
   ],
   "source": [
    "from tdmclient import ClientAsync\n",
    "client = ClientAsync()\n",
    "node = await client.wait_for_node()\n",
    "await node.lock()"
   ]
  },
  {
   "cell_type": "code",
   "execution_count": 3,
   "id": "ffd32f80",
   "metadata": {},
   "outputs": [],
   "source": [
    "import math\n",
    "import numpy as np\n",
    "import matplotlib.pyplot as plt\n",
    "from matplotlib import colors\n",
    "import time\n",
    "\n",
    "%matplotlib inline"
   ]
  },
  {
   "cell_type": "code",
   "execution_count": 4,
   "id": "6bf76549",
   "metadata": {},
   "outputs": [],
   "source": [
    "test_functions = True"
   ]
  },
  {
   "cell_type": "code",
   "execution_count": 5,
   "id": "9871b1a7",
   "metadata": {},
   "outputs": [],
   "source": [
    "from threading import Timer\n",
    "\n",
    "class RepeatedTimer(object):\n",
    "    def __init__(self, interval, function, *args, **kwargs):\n",
    "        self._timer     = None\n",
    "        self.interval   = interval\n",
    "        self.function   = function\n",
    "        self.args       = args\n",
    "        self.kwargs     = kwargs\n",
    "        self.is_running = False\n",
    "        self.start()\n",
    "\n",
    "    def _run(self):\n",
    "        self.is_running = False\n",
    "        self.start()\n",
    "        self.function(*self.args, **self.kwargs)\n",
    "\n",
    "    def start(self):\n",
    "        if not self.is_running:\n",
    "            self._timer = Timer(self.interval, self._run)\n",
    "            self._timer.start()\n",
    "            self.is_running = True\n",
    "\n",
    "    def stop(self):\n",
    "        self._timer.cancel()\n",
    "        self.is_running = False"
   ]
  },
  {
   "cell_type": "code",
   "execution_count": 6,
   "id": "098367c5",
   "metadata": {},
   "outputs": [],
   "source": [
    "#function to set the speed of the wheels\n",
    "def motors(left, right):\n",
    "    return {\n",
    "        \"motor.left.target\": [left],\n",
    "        \"motor.right.target\": [right],\n",
    "    }\n",
    "\n",
    "node.send_set_variables(motors(0, 0))"
   ]
  },
  {
   "cell_type": "code",
   "execution_count": 7,
   "id": "0898f6f0",
   "metadata": {},
   "outputs": [],
   "source": [
    "async def motion_control(start_x, start_y, start_theta, goal_x, goal_y, goal_theta):\n",
    "    # start_theta and goal_theta to be given in degrees, coordinates in mm\n",
    "    \n",
    "    # Controller parameters:\n",
    "    \n",
    "    # Kx in s^(-1)\n",
    "    Kx = 1.3\n",
    "    # Ky in mm^(-2)\n",
    "    Ky = 0.000015\n",
    "    # Ktheta in mm^(-1)\n",
    "    Ktheta = 0.02\n",
    "    \n",
    "    # should be given in mm/s\n",
    "    v_ref = 200\n",
    "    # should be given in rad/s\n",
    "    omega_ref = 0\n",
    "    \n",
    "    # Converting degrees to radians\n",
    "    start_theta *= math.pi/180\n",
    "    goal_theta *= math.pi/180\n",
    "    \n",
    "    pos_current = np.array([start_x, start_y, start_theta])\n",
    "    pos_ref = np.array([goal_x, goal_y, goal_theta])\n",
    "    \n",
    "    # kanayama controller\n",
    "    while np.any(pos_current) != np.any(pos_ref):\n",
    "        \n",
    "        # the error x and y are given in the robot referencial, not the global referencial\n",
    "        pos_error = np.array([[math.cos(pos_current[2]), math.sin(pos_current[2]), 0],\n",
    "                             [-math.sin(pos_current[2]), math.cos(pos_current[2]), 0],\n",
    "                             [0, 0, 1]]).dot(pos_ref - pos_current)\n",
    "        \n",
    "        print(pos_error)\n",
    "        \n",
    "        # q = [v, omega] easier to translate into motor commands\n",
    "        q = np.array([v_ref*math.cos(pos_error[2]) + Kx*pos_error[0],\n",
    "                      omega_ref + v_ref*(Ky*pos_error[1] + Ktheta*math.sin(pos_error[2]))])\n",
    "        \n",
    "        print(q)\n",
    "\n",
    "        [left,right] = move_robot(q)\n",
    "        await node.set_variables(motors(left, right))\n",
    "        # time.sleep(1)\n",
    "        \n",
    "        # should be pos_current = get_filtered_pos()\n",
    "        pos_current = pos_ref\n",
    "        \n",
    "    node.send_set_variables(motors(0, 0))\n",
    "    print('out')"
   ]
  },
  {
   "cell_type": "code",
   "execution_count": 8,
   "id": "1e3005a8",
   "metadata": {},
   "outputs": [],
   "source": [
    "def move_robot(q):\n",
    "    \n",
    "    # distance between the wheels in mm\n",
    "    b = 95\n",
    "    \n",
    "    # convert to motor speed\n",
    "    v = 2.817 * q[0]\n",
    "    omega = 10/math.pi * q[1]\n",
    "    \n",
    "    left_speed = round(-0.5*omega*b + v)\n",
    "    print('left:',left_speed)\n",
    "    right_speed = round(0.5*omega*b + v)\n",
    "    print('right:',right_speed)\n",
    "    \n",
    "    return [left_speed,right_speed]"
   ]
  },
  {
   "cell_type": "code",
   "execution_count": null,
   "id": "b21a2cfc",
   "metadata": {},
   "outputs": [],
   "source": [
    "await motion_control(0,0,0,0,0,90)\n",
    "\n",
    "# Notes: \n",
    "# - as the input for the motors depends on the error, a farther goal would make the robot move faster\n",
    "# - a pure rotation command does not translate into the robot just rotating but we never have to face this case"
   ]
  },
  {
   "cell_type": "code",
   "execution_count": 9,
   "id": "198a0d9c",
   "metadata": {},
   "outputs": [
    {
     "ename": "NameError",
     "evalue": "name 'left' is not defined",
     "output_type": "error",
     "traceback": [
      "\u001b[1;31m---------------------------------------------------------------------------\u001b[0m",
      "\u001b[1;31mNameError\u001b[0m                                 Traceback (most recent call last)",
      "\u001b[1;32m<ipython-input-9-3676bc116bb5>\u001b[0m in \u001b[0;36m<module>\u001b[1;34m\u001b[0m\n\u001b[1;32m----> 1\u001b[1;33m \u001b[1;33m[\u001b[0m\u001b[0mleft\u001b[0m\u001b[1;33m,\u001b[0m\u001b[0mright\u001b[0m\u001b[1;33m]\u001b[0m \u001b[1;33m=\u001b[0m \u001b[0mmove_robot\u001b[0m\u001b[1;33m(\u001b[0m\u001b[1;33m[\u001b[0m\u001b[1;36m0\u001b[0m\u001b[1;33m,\u001b[0m\u001b[0mmath\u001b[0m\u001b[1;33m.\u001b[0m\u001b[0mpi\u001b[0m\u001b[1;33m/\u001b[0m\u001b[1;36m2\u001b[0m\u001b[1;33m]\u001b[0m\u001b[1;33m)\u001b[0m\u001b[1;33m\u001b[0m\u001b[1;33m\u001b[0m\u001b[0m\n\u001b[0m\u001b[0;32m      2\u001b[0m \u001b[1;32mawait\u001b[0m \u001b[0mnode\u001b[0m\u001b[1;33m.\u001b[0m\u001b[0mset_variables\u001b[0m\u001b[1;33m(\u001b[0m\u001b[0mmotors\u001b[0m\u001b[1;33m(\u001b[0m\u001b[0mleft\u001b[0m\u001b[1;33m,\u001b[0m \u001b[0mright\u001b[0m\u001b[1;33m)\u001b[0m\u001b[1;33m)\u001b[0m\u001b[1;33m\u001b[0m\u001b[1;33m\u001b[0m\u001b[0m\n\u001b[0;32m      3\u001b[0m \u001b[0mtime\u001b[0m\u001b[1;33m.\u001b[0m\u001b[0msleep\u001b[0m\u001b[1;33m(\u001b[0m\u001b[1;36m1\u001b[0m\u001b[1;33m)\u001b[0m\u001b[1;33m\u001b[0m\u001b[1;33m\u001b[0m\u001b[0m\n\u001b[0;32m      4\u001b[0m \u001b[0mnode\u001b[0m\u001b[1;33m.\u001b[0m\u001b[0msend_set_variables\u001b[0m\u001b[1;33m(\u001b[0m\u001b[0mmotors\u001b[0m\u001b[1;33m(\u001b[0m\u001b[1;36m0\u001b[0m\u001b[1;33m,\u001b[0m \u001b[1;36m0\u001b[0m\u001b[1;33m)\u001b[0m\u001b[1;33m)\u001b[0m\u001b[1;33m\u001b[0m\u001b[1;33m\u001b[0m\u001b[0m\n",
      "\u001b[1;32m<ipython-input-8-a65bb97bc669>\u001b[0m in \u001b[0;36mmove_robot\u001b[1;34m(q)\u001b[0m\n\u001b[0;32m      9\u001b[0m \u001b[1;33m\u001b[0m\u001b[0m\n\u001b[0;32m     10\u001b[0m     \u001b[0mleft_speed\u001b[0m \u001b[1;33m=\u001b[0m \u001b[0mround\u001b[0m\u001b[1;33m(\u001b[0m\u001b[1;33m-\u001b[0m\u001b[1;36m0.5\u001b[0m\u001b[1;33m*\u001b[0m\u001b[0momega\u001b[0m\u001b[1;33m*\u001b[0m\u001b[0mb\u001b[0m \u001b[1;33m+\u001b[0m \u001b[0mv\u001b[0m\u001b[1;33m)\u001b[0m\u001b[1;33m\u001b[0m\u001b[1;33m\u001b[0m\u001b[0m\n\u001b[1;32m---> 11\u001b[1;33m     \u001b[0mprint\u001b[0m\u001b[1;33m(\u001b[0m\u001b[1;34m'left:'\u001b[0m\u001b[1;33m,\u001b[0m\u001b[0mleft\u001b[0m\u001b[1;33m)\u001b[0m\u001b[1;33m\u001b[0m\u001b[1;33m\u001b[0m\u001b[0m\n\u001b[0m\u001b[0;32m     12\u001b[0m     \u001b[0mright_speed\u001b[0m \u001b[1;33m=\u001b[0m \u001b[0mround\u001b[0m\u001b[1;33m(\u001b[0m\u001b[1;36m0.5\u001b[0m\u001b[1;33m*\u001b[0m\u001b[0momega\u001b[0m\u001b[1;33m*\u001b[0m\u001b[0mb\u001b[0m \u001b[1;33m+\u001b[0m \u001b[0mv\u001b[0m\u001b[1;33m)\u001b[0m\u001b[1;33m\u001b[0m\u001b[1;33m\u001b[0m\u001b[0m\n\u001b[0;32m     13\u001b[0m     \u001b[0mprint\u001b[0m\u001b[1;33m(\u001b[0m\u001b[1;34m'right:'\u001b[0m\u001b[1;33m,\u001b[0m\u001b[0mright\u001b[0m\u001b[1;33m)\u001b[0m\u001b[1;33m\u001b[0m\u001b[1;33m\u001b[0m\u001b[0m\n",
      "\u001b[1;31mNameError\u001b[0m: name 'left' is not defined"
     ]
    }
   ],
   "source": [
    "[left,right] = move_robot([0,math.pi/2])\n",
    "await node.set_variables(motors(left, right))\n",
    "time.sleep(1)\n",
    "node.send_set_variables(motors(0, 0))"
   ]
  },
  {
   "cell_type": "code",
   "execution_count": 14,
   "id": "7e6202b9",
   "metadata": {},
   "outputs": [],
   "source": []
  },
  {
   "cell_type": "code",
   "execution_count": null,
   "id": "513e480d",
   "metadata": {},
   "outputs": [],
   "source": []
  }
 ],
 "metadata": {
  "kernelspec": {
   "display_name": "Python 3",
   "language": "python",
   "name": "python3"
  },
  "language_info": {
   "codemirror_mode": {
    "name": "ipython",
    "version": 3
   },
   "file_extension": ".py",
   "mimetype": "text/x-python",
   "name": "python",
   "nbconvert_exporter": "python",
   "pygments_lexer": "ipython3",
   "version": "3.8.8"
  }
 },
 "nbformat": 4,
 "nbformat_minor": 5
}
